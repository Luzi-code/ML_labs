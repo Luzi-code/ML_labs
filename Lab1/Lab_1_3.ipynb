{
 "cells": [
  {
   "cell_type": "code",
   "execution_count": 2,
   "metadata": {},
   "outputs": [],
   "source": [
    "import pandas as pd \n",
    "import numpy as np \n",
    "import matplotlib.pyplot as plt \n",
    "import seaborn as sns\n",
    "%matplotlib inline"
   ]
  },
  {
   "cell_type": "code",
   "execution_count": 3,
   "metadata": {},
   "outputs": [],
   "source": [
    "from sklearn import datasets\n",
    "df=pd.DataFrame(datasets.load_diabetes(as_frame=True).data)\n",
    "X = df.copy()\n",
    "y =X.pop('s1')"
   ]
  },
  {
   "cell_type": "markdown",
   "metadata": {},
   "source": [
    "Модели для сравнения, из предыдущих файлов"
   ]
  },
  {
   "cell_type": "code",
   "execution_count": 6,
   "metadata": {},
   "outputs": [],
   "source": [
    "def find_coeffs(X,y):\n",
    "    X=np.concatenate([np.ones((X.shape[0], 1)), X],axis=1)\n",
    "    X_T_X_inv = np.linalg.inv(X.T.dot(X))\n",
    "    B = X_T_X_inv.dot(X.T.dot(y))\n",
    "    intercept=B[0]\n",
    "    coeffitients=B[1:]\n",
    "    return intercept,coeffitients\n",
    "\n",
    "from sklearn.linear_model import LinearRegression "
   ]
  },
  {
   "cell_type": "code",
   "execution_count": 5,
   "metadata": {},
   "outputs": [],
   "source": [
    "from sklearn.model_selection import train_test_split \n",
    "X_train, X_test, y_train, y_test = train_test_split(X, y, test_size=0.2, random_state=0)"
   ]
  },
  {
   "cell_type": "code",
   "execution_count": 9,
   "metadata": {},
   "outputs": [],
   "source": [
    "#Для нашей модели\n",
    "intercept,coeffs=find_coeffs(X_train,y_train)\n",
    "our_y_pred=X_test.dot(coeffs)+intercept\n",
    "\n",
    "#Для sklearn модели\n",
    "regressor = LinearRegression() \n",
    "regressor.fit(X_train,y_train)\n",
    "skl_y_pred=regressor.predict(X_test)"
   ]
  },
  {
   "cell_type": "markdown",
   "metadata": {},
   "source": [
    "Различные метрики"
   ]
  },
  {
   "cell_type": "code",
   "execution_count": 8,
   "metadata": {},
   "outputs": [
    {
     "name": "stdout",
     "output_type": "stream",
     "text": [
      "R2 нашей модели: 0.9887\n",
      "R2 skl модели: 0.9887\n",
      "MAE нашей модели: 0.0041\n",
      "MAE skl модели: 0.0041\n",
      "MAPE нашей модели: 0.2463\n",
      "MAPE skl модели: 0.2463\n"
     ]
    }
   ],
   "source": [
    "from sklearn.metrics import r2_score,mean_absolute_error,mean_absolute_percentage_error\n",
    "\n",
    "print(\"R2 нашей модели: %.4f\" % r2_score(y_test, our_y_pred))\n",
    "print(\"R2 skl модели: %.4f\" % r2_score(y_test, skl_y_pred))\n",
    "print(\"MAE нашей модели: %.4f\" % mean_absolute_error(y_test, our_y_pred))\n",
    "print(\"MAE skl модели: %.4f\" % mean_absolute_error(y_test, skl_y_pred))\n",
    "print(\"MAPE нашей модели: %.4f\" % mean_absolute_percentage_error(y_test, our_y_pred))\n",
    "print(\"MAPE skl модели: %.4f\" % mean_absolute_percentage_error(y_test, skl_y_pred))\n"
   ]
  },
  {
   "cell_type": "markdown",
   "metadata": {},
   "source": [
    "Опять же, модели не отличаются"
   ]
  }
 ],
 "metadata": {
  "kernelspec": {
   "display_name": "Python 3.10.11 64-bit (microsoft store)",
   "language": "python",
   "name": "python3"
  },
  "language_info": {
   "codemirror_mode": {
    "name": "ipython",
    "version": 3
   },
   "file_extension": ".py",
   "mimetype": "text/x-python",
   "name": "python",
   "nbconvert_exporter": "python",
   "pygments_lexer": "ipython3",
   "version": "3.10.11"
  },
  "orig_nbformat": 4,
  "vscode": {
   "interpreter": {
    "hash": "4e2d3723fc14695f1e215fba50beb6dfd27cfbdd8ae8e3ea02b8632277133ca1"
   }
  }
 },
 "nbformat": 4,
 "nbformat_minor": 2
}
