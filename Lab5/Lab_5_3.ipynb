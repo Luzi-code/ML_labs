{
 "cells": [
  {
   "cell_type": "code",
   "execution_count": 1,
   "metadata": {},
   "outputs": [],
   "source": [
    "import pandas as pd \n",
    "import numpy as np \n",
    "%matplotlib inline\n",
    "import matplotlib.pyplot as plt \n",
    "import seaborn as sns\n",
    "import warnings\n",
    "warnings.filterwarnings(\"ignore\")"
   ]
  },
  {
   "cell_type": "code",
   "execution_count": 2,
   "metadata": {},
   "outputs": [],
   "source": [
    "df=pd.read_csv('diabetes.csv')\n",
    "df.head(3)\n",
    "\n",
    "new_df=df.copy()\n",
    "new_df['Age']=np.log(np.log(df['Age'])+2)\n",
    "new_df['DiabetesPedigreeFunction']=np.log(df['DiabetesPedigreeFunction'])\n",
    "new_df['Insulin']=np.log(df['Insulin']+20)\n",
    "new_df['SkinThickness']=np.log(df['SkinThickness']+20)\n",
    "new_df['Pregnancies']=np.log(df['Pregnancies']+1)\n"
   ]
  },
  {
   "cell_type": "code",
   "execution_count": 23,
   "metadata": {},
   "outputs": [],
   "source": [
    "from sklearn.model_selection import train_test_split\n",
    "from sklearn.model_selection import StratifiedKFold\n",
    "strat_cv = StratifiedKFold(n_splits=5, shuffle=True, random_state=42)\n",
    "\n",
    "X=new_df.copy()\n",
    "y=X.pop('Outcome')\n",
    "X_train, X_test, y_train, y_test = train_test_split(X, y, test_size=0.2, random_state=42)"
   ]
  },
  {
   "cell_type": "markdown",
   "metadata": {},
   "source": [
    "## Подбор параметров RandomForest"
   ]
  },
  {
   "cell_type": "markdown",
   "metadata": {},
   "source": [
    "### Самостоятельный подбор параметров (из 5.2)"
   ]
  },
  {
   "cell_type": "code",
   "execution_count": 24,
   "metadata": {},
   "outputs": [
    {
     "name": "stdout",
     "output_type": "stream",
     "text": [
      "Для модели RandomForestClassifier(max_depth=20, max_features=7, n_estimators=140,\n",
      "                       random_state=42):\n",
      "accuracy_score = 0.7564892623716153\n",
      "precision_score = 0.6666830983601171\n",
      "recall_score = 0.6083158630328441\n",
      "f1_score = 0.635573391973612\n",
      "---------------------------\n"
     ]
    }
   ],
   "source": [
    "from sklearn.ensemble import RandomForestClassifier\n",
    "from sklearn.metrics import accuracy_score,f1_score, precision_score,recall_score, make_scorer\n",
    "from sklearn.model_selection import cross_val_score\n",
    "\n",
    "models=[RandomForestClassifier(max_depth=20,max_features=7,n_estimators=140,random_state=42)]\n",
    "scorers=[accuracy_score,precision_score,recall_score,f1_score]\n",
    "\n",
    "\n",
    "\n",
    "for model in models:\n",
    "    print(f\"Для модели {model}:\")\n",
    "    for scorer in scorers:\n",
    "        score=np.mean(cross_val_score(model,X,y,scoring=make_scorer(scorer),cv=strat_cv))\n",
    "        print(f'{scorer.__name__} = {score}')\n",
    "\n",
    "    print('---------------------------')"
   ]
  },
  {
   "cell_type": "markdown",
   "metadata": {},
   "source": [
    "### Подбор параметров RandomSearch"
   ]
  },
  {
   "cell_type": "code",
   "execution_count": 25,
   "metadata": {},
   "outputs": [
    {
     "name": "stdout",
     "output_type": "stream",
     "text": [
      "Для модели c RandomizedSearchCV:\n",
      "accuracy_score = 0.7460487225193108\n",
      "precision_score = 0.6522797558739807\n",
      "recall_score = 0.593361285814116\n",
      "f1_score = 0.6204379639259123\n",
      "---------------------------\n",
      "Для оптимизированной модели время обучения:\n",
      "139.09832191467285\n"
     ]
    }
   ],
   "source": [
    "from sklearn.model_selection import RandomizedSearchCV\n",
    "from scipy.stats import randint\n",
    "from time import time\n",
    "\n",
    "\n",
    "param_list={\n",
    "    'max_depth' : randint(2,30),\n",
    "    'max_features' : randint(2,20),\n",
    "    'n_estimators' : randint(20,300)\n",
    "\n",
    "}\n",
    "start_time=time()\n",
    "model=RandomForestClassifier(random_state=42)\n",
    "searched_model = RandomizedSearchCV(model, param_list, random_state=42, scoring='recall',n_iter=80)\n",
    "searched_model.fit(X,y)\n",
    "\n",
    "model= RandomForestClassifier(**searched_model.best_params_,random_state=42)\n",
    "print(f\"Для модели c RandomizedSearchCV:\")\n",
    "for scorer in scorers:\n",
    "    score=np.mean(cross_val_score(model,X,y,scoring=make_scorer(scorer),cv=strat_cv))\n",
    "    print(f'{scorer.__name__} = {score}')\n",
    "\n",
    "end_time=time()\n",
    "total_time=end_time-start_time\n",
    "\n",
    "print('---------------------------')\n",
    "print(f'Для оптимизированной модели время обучения:\\n{total_time}')\n"
   ]
  },
  {
   "cell_type": "markdown",
   "metadata": {},
   "source": [
    "Как видим, мы получили худший результат если перебираем параметры по отдельности, чем перебирая параметры совместно"
   ]
  },
  {
   "cell_type": "markdown",
   "metadata": {},
   "source": [
    "### Подбор параметров Hyperopt"
   ]
  },
  {
   "cell_type": "code",
   "execution_count": 48,
   "metadata": {},
   "outputs": [
    {
     "name": "stdout",
     "output_type": "stream",
     "text": [
      "100%|██████████| 80/80 [01:56<00:00,  1.45s/trial, best loss: -0.6380852550663871]\n",
      "Для модели c TPE Hyperopt:\n",
      "accuracy_score = 0.7603938545115015\n",
      "precision_score = 0.6781515988037727\n",
      "recall_score = 0.6009084556254367\n",
      "f1_score = 0.6360021436723111\n",
      "---------------------------\n",
      "Для Hyperopt время обучения:\n",
      "123.51328444480896\n"
     ]
    }
   ],
   "source": [
    "from hyperopt import fmin, tpe, hp, Trials\n",
    "from hyperopt import rand\n",
    "\n",
    "start_time=time()\n",
    "\n",
    "space = {\n",
    "    'max_depth': hp.choice('max_depth', range(2, 30)),\n",
    "    'n_estimators': hp.choice('n_estimators', range(20, 300)),\n",
    "    'max_features' : hp.choice('max_features', range(2,20))\n",
    "}\n",
    "\n",
    "\n",
    "def find_recall(params):\n",
    "    searched_model = RandomForestClassifier(**params,random_state=42)\n",
    "    recall = np.mean(cross_val_score(searched_model,X,y,scoring='recall',cv=strat_cv))\n",
    "    return -recall  \n",
    "\n",
    "trials=Trials()\n",
    "best_params = fmin(fn=find_recall,\n",
    "            space=space,\n",
    "            algo=tpe.suggest,  \n",
    "            max_evals=80,\n",
    "            trials=trials)\n",
    "\n",
    "\n",
    "model=RandomForestClassifier(**best_params,random_state=42)\n",
    "\n",
    "print(f\"Для модели c TPE Hyperopt:\")\n",
    "for scorer in scorers:\n",
    "    score=np.mean(cross_val_score(model,X,y,scoring=make_scorer(scorer),cv=strat_cv))\n",
    "    print(f'{scorer.__name__} = {score}')\n",
    "\n",
    "end_time=time()\n",
    "total_time=end_time-start_time\n",
    "\n",
    "print('---------------------------')\n",
    "print(f'Для Hyperopt время обучения:\\n{total_time}')"
   ]
  },
  {
   "cell_type": "markdown",
   "metadata": {},
   "source": [
    "Вывод: подбор параметров по одному дает хороший результат, но тратит большое количество времени. Используя Randomsearchcv результат уудшился, зато мы получили его быстрее. И наконец hyperopt при том же работает примерно с той же скоростью что и Randomsearchcv, но сохраняет хороший результат как при переборе по одному"
   ]
  },
  {
   "cell_type": "markdown",
   "metadata": {},
   "source": [
    "## XGBClassifier"
   ]
  },
  {
   "cell_type": "markdown",
   "metadata": {},
   "source": [
    "### Перебор по параметру вручную"
   ]
  },
  {
   "cell_type": "code",
   "execution_count": 29,
   "metadata": {},
   "outputs": [
    {
     "name": "stdout",
     "output_type": "stream",
     "text": [
      "С подбором гиперпараметров по отдельности:\n",
      "accuracy_score = 0.743425855190561\n",
      "precision_score = 0.6364606953892669\n",
      "recall_score = 0.6153738644304683\n",
      "f1_score = 0.6253315910183403\n",
      "---------------------------\n"
     ]
    }
   ],
   "source": [
    "from xgboost import XGBClassifier\n",
    "model=XGBClassifier(max_depth=20,max_features=7,n_estimators=35,random_state=42)\n",
    "\n",
    "print(f\"С подбором гиперпараметров по отдельности:\")\n",
    "for scorer in scorers:\n",
    "    score=np.mean(cross_val_score(model,X,y,scoring=make_scorer(scorer),cv=strat_cv))\n",
    "    print(f'{scorer.__name__} = {score}')\n",
    "\n",
    "print('---------------------------')"
   ]
  },
  {
   "cell_type": "markdown",
   "metadata": {},
   "source": [
    "### С помощью RandomSearch"
   ]
  },
  {
   "cell_type": "code",
   "execution_count": 30,
   "metadata": {},
   "outputs": [
    {
     "name": "stdout",
     "output_type": "stream",
     "text": [
      "Для модели c RandomizedSearchCV:\n",
      "accuracy_score = 0.7577879636703166\n",
      "precision_score = 0.6613972905401477\n",
      "recall_score = 0.6268343815513627\n",
      "f1_score = 0.6433745635784605\n",
      "---------------------------\n",
      "Для оптимизированной модели время обучения:\n",
      "39.435508251190186\n"
     ]
    }
   ],
   "source": [
    "param_list={\n",
    "    'max_depth' : randint(2,40),\n",
    "    'max_features' : randint(1,20),\n",
    "    'n_estimators' : randint(10,300)\n",
    "\n",
    "}\n",
    "start_time=time()\n",
    "model=XGBClassifier(random_state=42)\n",
    "searched_model = RandomizedSearchCV(model, param_list, random_state=42, scoring='recall',n_iter=80)\n",
    "searched_model.fit(X,y)\n",
    "\n",
    "model= XGBClassifier(**searched_model.best_params_,random_state=42)\n",
    "print(f\"Для модели c RandomizedSearchCV:\")\n",
    "for scorer in scorers:\n",
    "    score=np.mean(cross_val_score(model,X,y,scoring=make_scorer(scorer),cv=strat_cv))\n",
    "    print(f'{scorer.__name__} = {score}')\n",
    "\n",
    "end_time=time()\n",
    "total_time=end_time-start_time\n",
    "\n",
    "print('---------------------------')\n",
    "print(f'Для оптимизированной модели время обучения:\\n{total_time}')\n"
   ]
  },
  {
   "cell_type": "code",
   "execution_count": 49,
   "metadata": {},
   "outputs": [
    {
     "name": "stdout",
     "output_type": "stream",
     "text": [
      "100%|██████████| 80/80 [00:33<00:00,  2.39trial/s, best loss: -0.6377358490566037]\n",
      "Для модели c TPE Hyperopt:\n",
      "accuracy_score = 0.7460572107630932\n",
      "precision_score = 0.640738866396761\n",
      "recall_score = 0.6229909154437456\n",
      "f1_score = 0.6312529050375886\n",
      "---------------------------\n",
      "Для Hyperopt время обучения:\n",
      "34.26271390914917\n"
     ]
    }
   ],
   "source": [
    "\n",
    "model=XGBClassifier(random_state=42)\n",
    "start_time=time()\n",
    "\n",
    "\n",
    "space = {\n",
    "    'max_depth': hp.choice('max_depth', list(range(2, 30))),\n",
    "    'n_estimators': hp.choice('n_estimators', list(range(20, 300))),\n",
    "}\n",
    "\n",
    "\n",
    "def find_recall(params):\n",
    "    current_params = params.copy()\n",
    "    searched_model = XGBClassifier(**current_params,random_state=42)\n",
    "    recall = np.mean(cross_val_score(searched_model,X,y,scoring='recall',cv=strat_cv))\n",
    "    return -recall \n",
    "\n",
    "trials=Trials()\n",
    "best_params = fmin(fn=find_recall,\n",
    "            space=space,\n",
    "            algo=tpe.suggest,  \n",
    "            max_evals=80,\n",
    "            trials=trials)\n",
    "\n",
    "\n",
    "model=XGBClassifier(**best_params,random_state=42)\n",
    "\n",
    "print(f\"Для модели c TPE Hyperopt:\")\n",
    "for scorer in scorers:\n",
    "    score=np.mean(cross_val_score(model,X,y,scoring=make_scorer(scorer),cv=strat_cv))\n",
    "    print(f'{scorer.__name__} = {score}')\n",
    "\n",
    "end_time=time()\n",
    "total_time=end_time-start_time\n",
    "\n",
    "print('---------------------------')\n",
    "print(f'Для Hyperopt время обучения:\\n{total_time}')"
   ]
  },
  {
   "cell_type": "markdown",
   "metadata": {},
   "source": [
    "В случае с XGBClassifier наилучший результат показал Randomsearchcv"
   ]
  }
 ],
 "metadata": {
  "kernelspec": {
   "display_name": "Python 3.10.11 64-bit (microsoft store)",
   "language": "python",
   "name": "python3"
  },
  "language_info": {
   "codemirror_mode": {
    "name": "ipython",
    "version": 3
   },
   "file_extension": ".py",
   "mimetype": "text/x-python",
   "name": "python",
   "nbconvert_exporter": "python",
   "pygments_lexer": "ipython3",
   "version": "3.10.11"
  },
  "orig_nbformat": 4,
  "vscode": {
   "interpreter": {
    "hash": "4e2d3723fc14695f1e215fba50beb6dfd27cfbdd8ae8e3ea02b8632277133ca1"
   }
  }
 },
 "nbformat": 4,
 "nbformat_minor": 2
}
